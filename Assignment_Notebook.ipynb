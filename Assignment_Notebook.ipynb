{
 "cells": [
  {
   "cell_type": "markdown",
   "id": "687ed836-7edb-4261-9369-0913eb116331",
   "metadata": {
    "tags": []
   },
   "source": [
    "# Data Science Tools and Ecosystem"
   ]
  },
  {
   "cell_type": "markdown",
   "id": "b6c489e3-2fb9-44c0-9cd0-2572de625076",
   "metadata": {},
   "source": [
    "**Objectives:**\n",
    "+ Popular Data Science Languages\n",
    "+ Commonly Used Libraries by Data Scientists\n",
    "+ Data Sciecne Tools\n",
    "+ Arithmetic Expressions in Python\n",
    "\n",
    "\n"
   ]
  },
  {
   "cell_type": "markdown",
   "id": "ee5bf21c-ef83-4373-b723-037973d71582",
   "metadata": {},
   "source": [
    "## Author\n",
    "Jacob Panka\n"
   ]
  },
  {
   "cell_type": "markdown",
   "id": "5d3c3600-7af4-41a8-b386-b25783664365",
   "metadata": {},
   "source": [
    "In this notebook, Data Science Tools and Ecosystem are summarized."
   ]
  },
  {
   "cell_type": "markdown",
   "id": "c5026172-652f-48d0-b341-133abce2b80b",
   "metadata": {},
   "source": [
    "Some of the popular languages that Data Scientists use are:\n",
    "1. phython\n",
    "2. r\n",
    "3. sql\n"
   ]
  },
  {
   "cell_type": "markdown",
   "id": "c1d86363-16a7-4234-b0a0-16675747b35a",
   "metadata": {
    "tags": []
   },
   "source": [
    "Some of the commonly used libraries used by Data Scientists include:\n",
    "1. ggplot\n",
    "2. plotly\n",
    "3. pandas"
   ]
  },
  {
   "cell_type": "markdown",
   "id": "17090d5f-1c5b-47a4-bd93-57c235ab66d8",
   "metadata": {
    "tags": []
   },
   "source": [
    "| Data Science Tools |\n",
    "|--------------------|\n",
    "| R studio |\n",
    "| Jupyter Notebooks |\n",
    "| Hadoop |"
   ]
  },
  {
   "cell_type": "markdown",
   "id": "50bc84a0-5cfc-4c87-b838-5d8065402c43",
   "metadata": {},
   "source": [
    "### Below are a few examples of evaluating arithmetic expressions in Python\n"
   ]
  },
  {
   "cell_type": "markdown",
   "id": "1002bbf2-02c4-477b-9462-6662c4cd1781",
   "metadata": {
    "tags": []
   },
   "source": [
    "This a simple arithmetic expression to mutiply then add integers"
   ]
  },
  {
   "cell_type": "code",
   "execution_count": 25,
   "id": "fc8a1286-04b6-45b4-9ec2-d102e88f14c0",
   "metadata": {
    "tags": []
   },
   "outputs": [
    {
     "data": {
      "text/plain": [
       "17"
      ]
     },
     "execution_count": 25,
     "metadata": {},
     "output_type": "execute_result"
    }
   ],
   "source": [
    "(3*4)+5"
   ]
  },
  {
   "cell_type": "markdown",
   "id": "251bbc85-ead9-4557-a2b3-0124256ad0ed",
   "metadata": {
    "tags": []
   },
   "source": [
    "This will convert 200 minutes to hours by diving by 60"
   ]
  },
  {
   "cell_type": "code",
   "execution_count": 45,
   "id": "62150a1a-31e3-4053-a875-167dca84c926",
   "metadata": {
    "tags": []
   },
   "outputs": [
    {
     "data": {
      "text/plain": [
       "3.3333333333333335"
      ]
     },
     "execution_count": 45,
     "metadata": {},
     "output_type": "execute_result"
    }
   ],
   "source": [
    "200/60\n"
   ]
  },
  {
   "cell_type": "code",
   "execution_count": null,
   "id": "bacd35a3-21b5-42b2-b759-76c14d5fbeb6",
   "metadata": {},
   "outputs": [],
   "source": []
  }
 ],
 "metadata": {
  "kernelspec": {
   "display_name": "Python 3 (ipykernel)",
   "language": "python",
   "name": "python3"
  },
  "language_info": {
   "codemirror_mode": {
    "name": "ipython",
    "version": 3
   },
   "file_extension": ".py",
   "mimetype": "text/x-python",
   "name": "python",
   "nbconvert_exporter": "python",
   "pygments_lexer": "ipython3",
   "version": "3.11.5"
  }
 },
 "nbformat": 4,
 "nbformat_minor": 5
}
